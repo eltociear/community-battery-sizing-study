{
 "cells": [
  {
   "cell_type": "code",
   "execution_count": null,
   "metadata": {},
   "outputs": [],
   "source": [
    "import numpy as np\n",
    "from optimisation_models.battery_rho_model import DataPreparation, OptimisationParameters, BatteryRho"
   ]
  },
  {
   "cell_type": "code",
   "execution_count": null,
   "metadata": {},
   "outputs": [],
   "source": [
    "MONTHLY_LIST = np.arange(1, 13)\n",
    "N_RECEDING_HORIZON = 48*7*12"
   ]
  },
  {
   "cell_type": "code",
   "execution_count": null,
   "metadata": {},
   "outputs": [],
   "source": [
    "prosumer_agg_rho_folder = f'data/processed/prosumer_rho/aggregate_data'\n",
    "data_preparation = DataPreparation(prosumer_agg_rho_folder)\n",
    "df_prosumer_rho_all_year = data_preparation.read_prosumer_aggregate_rho(MONTHLY_LIST)"
   ]
  },
  {
   "cell_type": "code",
   "execution_count": null,
   "metadata": {},
   "outputs": [],
   "source": [
    "battery_capacity = 250\n",
    "battery_opti_params = OptimisationParameters(df_prosumer_rho_all_year, battery_capacity)\n",
    "battery_rho = BatteryRho(battery_opti_params)"
   ]
  },
  {
   "cell_type": "code",
   "execution_count": null,
   "metadata": {},
   "outputs": [],
   "source": [
    "df_optimised_battery = battery_rho.rolling_optimisation(N_RECEDING_HORIZON)"
   ]
  },
  {
   "cell_type": "code",
   "execution_count": null,
   "metadata": {},
   "outputs": [],
   "source": [
    "battery_folder = 'data/processed/battery/rho_model'\n",
    "battery_rho.save_committed_data(battery_folder)"
   ]
  },
  {
   "cell_type": "code",
   "execution_count": null,
   "metadata": {},
   "outputs": [],
   "source": []
  }
 ],
 "metadata": {
  "kernelspec": {
   "display_name": "Gurobi",
   "language": "python",
   "name": "python3"
  },
  "language_info": {
   "codemirror_mode": {
    "name": "ipython",
    "version": 3
   },
   "file_extension": ".py",
   "mimetype": "text/x-python",
   "name": "python",
   "nbconvert_exporter": "python",
   "pygments_lexer": "ipython3",
   "version": "3.8.12"
  },
  "orig_nbformat": 4
 },
 "nbformat": 4,
 "nbformat_minor": 2
}

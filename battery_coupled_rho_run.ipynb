{
 "cells": [
  {
   "cell_type": "code",
   "execution_count": null,
   "metadata": {},
   "outputs": [],
   "source": [
    "import numpy as np\n",
    "from optimisation_models.battery_coupled_rho_model import BatteryCoupledRhSizing\n",
    "from optimisation_models.battery_optimisation import OptimisationParameters\n",
    "from optimisation_models.battery_rho_model import DataPreparation"
   ]
  },
  {
   "cell_type": "code",
   "execution_count": null,
   "metadata": {},
   "outputs": [],
   "source": [
    "MONTHLY_LIST = np.arange(1, 13)"
   ]
  },
  {
   "cell_type": "code",
   "execution_count": null,
   "metadata": {},
   "outputs": [],
   "source": [
    "prosumer_agg_rho_folder = f'data/processed/prosumer_rho/aggregate_data'\n",
    "data_preparation = DataPreparation(prosumer_agg_rho_folder)\n",
    "df_prosumer_rho_all_year = data_preparation.read_prosumer_aggregate_rho(MONTHLY_LIST)"
   ]
  },
  {
   "cell_type": "code",
   "execution_count": null,
   "metadata": {},
   "outputs": [],
   "source": [
    "battery_opti_params = OptimisationParameters(df_prosumer_rho_all_year)\n",
    "battery_coupled_rho_model = BatteryCoupledRhSizing(battery_opti_params)\n",
    "df_coupled_sizing = battery_coupled_rho_model.sizing_optimisation(verbose=1)"
   ]
  },
  {
   "cell_type": "code",
   "execution_count": null,
   "metadata": {},
   "outputs": [],
   "source": [
    "df_coupled_sizing"
   ]
  },
  {
   "cell_type": "code",
   "execution_count": null,
   "metadata": {},
   "outputs": [],
   "source": [
    "battery_folder = 'data/processed/battery/coupled_rh_sizing/'\n",
    "battery_coupled_rho_model.save_binding_data(battery_folder)"
   ]
  }
 ],
 "metadata": {
  "kernelspec": {
   "display_name": "Gurobi",
   "language": "python",
   "name": "python3"
  },
  "language_info": {
   "codemirror_mode": {
    "name": "ipython",
    "version": 3
   },
   "file_extension": ".py",
   "mimetype": "text/x-python",
   "name": "python",
   "nbconvert_exporter": "python",
   "pygments_lexer": "ipython3",
   "version": "3.8.12"
  },
  "orig_nbformat": 4
 },
 "nbformat": 4,
 "nbformat_minor": 2
}

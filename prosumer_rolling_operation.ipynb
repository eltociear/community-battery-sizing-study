{
 "cells": [
  {
   "cell_type": "code",
   "execution_count": null,
   "metadata": {},
   "outputs": [],
   "source": [
    "from optimisation_models.prosumer_rho_model import DataPreparation, OptimisationParameters, ProsumerRho, ProcessOptimisedData"
   ]
  },
  {
   "cell_type": "code",
   "execution_count": null,
   "metadata": {},
   "outputs": [],
   "source": [
    "solar_home_file='data/raw/solar_home_processed_in_sample.csv'\n",
    "price_file = 'data/predispatch_prices/PD_NSW_2021.csv'\n",
    "months = range(1, 13) # Month order can be changed\n",
    "data_preparation = DataPreparation(solar_home_file, price_file)"
   ]
  },
  {
   "cell_type": "code",
   "execution_count": null,
   "metadata": {},
   "outputs": [],
   "source": [
    "for optimised_month in months:\n",
    "    df_prosumer = data_preparation.get_prosumer_data(month=optimised_month)\n",
    "    df_price = data_preparation.get_pd_price_data(month=optimised_month)\n",
    "\n",
    "    optimisation_parameters = OptimisationParameters(df_prosumer, df_price)\n",
    "    rolling_model = ProsumerRho(optimisation_parameters)\n",
    "\n",
    "    # Run this to get the prosumer rho\n",
    "    rolling_model.rolling_optimisation(n_receding_horizons=2)\n",
    "\n",
    "    folder_name = f'data/processed/prosumer_rho/month_{optimised_month}'\n",
    "    rolling_model.save_rolling_data(folder_name)"
   ]
  },
  {
   "cell_type": "code",
   "execution_count": null,
   "metadata": {},
   "outputs": [],
   "source": [
    "process_optimised_data = ProcessOptimisedData()\n",
    "for optimised_month in months:\n",
    "    dfs_agg_rolling = process_optimised_data.compile_aggregate_data(f'data/processed/prosumer_rho/month_{optimised_month}')\n",
    "    agg_folder_name = f'data/processed/prosumer_rho/aggregate_data/month_{optimised_month}'\n",
    "    process_optimised_data.save_aggregate_rolling_data(agg_folder_name)"
   ]
  },
  {
   "cell_type": "code",
   "execution_count": null,
   "metadata": {},
   "outputs": [],
   "source": [
    "process_optimised_data = ProcessOptimisedData()\n",
    "dfs_agg_binding = []\n",
    "lookahed_interval = 0\n",
    "for optimised_month in months:\n",
    "    df_agg_binding = process_optimised_data.get_lookahead_values(f'data/processed/prosumer_rho/aggregate_data/month_{optimised_month}', lookahed_interval)\n",
    "    dfs_agg_binding.append(df_agg_binding)\n",
    "agg_binding_folder_name = f'data/processed/prosumer_rho/aggregate_data'\n",
    "process_optimised_data.save_lookahead_data(dfs_agg_binding, lookahed_interval, agg_binding_folder_name)"
   ]
  }
 ],
 "metadata": {
  "kernelspec": {
   "display_name": "Gurobi",
   "language": "python",
   "name": "python3"
  },
  "language_info": {
   "codemirror_mode": {
    "name": "ipython",
    "version": 3
   },
   "file_extension": ".py",
   "mimetype": "text/x-python",
   "name": "python",
   "nbconvert_exporter": "python",
   "pygments_lexer": "ipython3",
   "version": "3.8.12"
  },
  "orig_nbformat": 4
 },
 "nbformat": 4,
 "nbformat_minor": 2
}

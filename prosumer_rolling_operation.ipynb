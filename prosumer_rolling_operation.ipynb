{
 "cells": [
  {
   "cell_type": "code",
   "execution_count": null,
   "metadata": {},
   "outputs": [],
   "source": [
    "from optimisation_models.prosumer_rho_model import DataPreparation, ProsumerModel, ProsumerRho"
   ]
  },
  {
   "cell_type": "code",
   "execution_count": null,
   "metadata": {},
   "outputs": [],
   "source": [
    "solar_home_file='data/raw/solar_home_processed_in_sample.csv'\n",
    "price_file = 'data/predispatch_prices/PD_NSW_2021.csv'"
   ]
  },
  {
   "cell_type": "code",
   "execution_count": null,
   "metadata": {},
   "outputs": [],
   "source": [
    "for optimised_month in range(1, 13):\n",
    "    if optimised_month == 7:\n",
    "        continue\n",
    "    data_preparation = DataPreparation(solar_home_file, price_file)\n",
    "    df_prosumer = data_preparation.get_prosumer_data(month=optimised_month)\n",
    "    df_price = data_preparation.get_pd_price_data(month=optimised_month)\n",
    "\n",
    "    prosumer_model = ProsumerModel(df_prosumer, df_price)\n",
    "    rolling_model = ProsumerRho(prosumer_model)\n",
    "\n",
    "    # Run this to get the prosumer rho\n",
    "    dfs_rolling_interval = rolling_model.rolling_optimisation(n_receding_horizons=48*7)\n",
    "\n",
    "    folder_name = f'data/processed/prosumer_rho/month_{optimised_month}'\n",
    "    rolling_model.save_rolling_data(folder_name)"
   ]
  },
  {
   "cell_type": "code",
   "execution_count": null,
   "metadata": {},
   "outputs": [],
   "source": [
    "for optimised_month in range(1, 13):\n",
    "    dfs_agg_rolling = rolling_model.compile_aggregate_data(f'data/processed/prosumer_rho/month_{optimised_month}')\n",
    "    agg_folder_name = f'data/processed/prosumer_rho/aggregate_data/month_{optimised_month}'\n",
    "    rolling_model.save_aggregate_rolling_data(agg_folder_name)"
   ]
  }
 ],
 "metadata": {
  "kernelspec": {
   "display_name": "Gurobi",
   "language": "python",
   "name": "python3"
  },
  "language_info": {
   "codemirror_mode": {
    "name": "ipython",
    "version": 3
   },
   "file_extension": ".py",
   "mimetype": "text/x-python",
   "name": "python",
   "nbconvert_exporter": "python",
   "pygments_lexer": "ipython3",
   "version": "3.8.12"
  },
  "orig_nbformat": 4
 },
 "nbformat": 4,
 "nbformat_minor": 2
}
